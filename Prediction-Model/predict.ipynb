{
 "cells": [
  {
   "cell_type": "code",
   "execution_count": 9,
   "metadata": {},
   "outputs": [],
   "source": [
    "import openmeteo_requests\n",
    "import requests_cache\n",
    "import pandas as pd\n",
    "from retry_requests import retry"
   ]
  },
  {
   "cell_type": "code",
   "execution_count": 8,
   "metadata": {},
   "outputs": [
    {
     "name": "stdout",
     "output_type": "stream",
     "text": [
      "Collecting openmeteo-requests\n",
      "  Using cached openmeteo_requests-1.3.0-py3-none-any.whl.metadata (9.7 kB)\n",
      "Collecting openmeteo-sdk>=1.4.0 (from openmeteo-requests)\n",
      "  Using cached openmeteo_sdk-1.14.1-py3-none-any.whl.metadata (934 bytes)\n",
      "Requirement already satisfied: requests in c:\\users\\hoang\\appdata\\local\\programs\\python\\python312\\lib\\site-packages (from openmeteo-requests) (2.31.0)\n",
      "Collecting flatbuffers>=24.0.0 (from openmeteo-sdk>=1.4.0->openmeteo-requests)\n",
      "  Using cached flatbuffers-24.3.25-py2.py3-none-any.whl.metadata (850 bytes)\n",
      "Requirement already satisfied: charset-normalizer<4,>=2 in c:\\users\\hoang\\appdata\\local\\programs\\python\\python312\\lib\\site-packages (from requests->openmeteo-requests) (3.3.2)\n",
      "Requirement already satisfied: idna<4,>=2.5 in c:\\users\\hoang\\appdata\\local\\programs\\python\\python312\\lib\\site-packages (from requests->openmeteo-requests) (3.7)\n",
      "Requirement already satisfied: urllib3<3,>=1.21.1 in c:\\users\\hoang\\appdata\\local\\programs\\python\\python312\\lib\\site-packages (from requests->openmeteo-requests) (2.2.1)\n",
      "Requirement already satisfied: certifi>=2017.4.17 in c:\\users\\hoang\\appdata\\local\\programs\\python\\python312\\lib\\site-packages (from requests->openmeteo-requests) (2024.2.2)\n",
      "Using cached openmeteo_requests-1.3.0-py3-none-any.whl (6.0 kB)\n",
      "Using cached openmeteo_sdk-1.14.1-py3-none-any.whl (7.3 kB)\n",
      "Using cached flatbuffers-24.3.25-py2.py3-none-any.whl (26 kB)\n",
      "Installing collected packages: flatbuffers, openmeteo-sdk, openmeteo-requests\n",
      "Successfully installed flatbuffers-24.3.25 openmeteo-requests-1.3.0 openmeteo-sdk-1.14.1\n"
     ]
    },
    {
     "name": "stderr",
     "output_type": "stream",
     "text": [
      "\n",
      "[notice] A new release of pip is available: 24.0 -> 24.2\n",
      "[notice] To update, run: python.exe -m pip install --upgrade pip\n"
     ]
    },
    {
     "name": "stdout",
     "output_type": "stream",
     "text": [
      "Collecting requests-cache\n",
      "  Using cached requests_cache-1.2.1-py3-none-any.whl.metadata (9.9 kB)\n",
      "Collecting retry-requests\n",
      "  Using cached retry_requests-2.0.0-py3-none-any.whl.metadata (2.6 kB)\n",
      "Requirement already satisfied: numpy in c:\\users\\hoang\\appdata\\local\\programs\\python\\python312\\lib\\site-packages (1.26.4)\n",
      "Requirement already satisfied: pandas in c:\\users\\hoang\\appdata\\local\\programs\\python\\python312\\lib\\site-packages (2.2.2)\n",
      "Requirement already satisfied: attrs>=21.2 in c:\\users\\hoang\\appdata\\local\\programs\\python\\python312\\lib\\site-packages (from requests-cache) (23.2.0)\n",
      "Collecting cattrs>=22.2 (from requests-cache)\n",
      "  Using cached cattrs-24.1.0-py3-none-any.whl.metadata (8.4 kB)\n",
      "Requirement already satisfied: platformdirs>=2.5 in c:\\users\\hoang\\appdata\\roaming\\python\\python312\\site-packages (from requests-cache) (4.2.0)\n",
      "Requirement already satisfied: requests>=2.22 in c:\\users\\hoang\\appdata\\local\\programs\\python\\python312\\lib\\site-packages (from requests-cache) (2.31.0)\n",
      "Collecting url-normalize>=1.4 (from requests-cache)\n",
      "  Using cached url_normalize-1.4.3-py2.py3-none-any.whl.metadata (3.1 kB)\n",
      "Requirement already satisfied: urllib3>=1.25.5 in c:\\users\\hoang\\appdata\\local\\programs\\python\\python312\\lib\\site-packages (from requests-cache) (2.2.1)\n",
      "Requirement already satisfied: python-dateutil>=2.8.2 in c:\\users\\hoang\\appdata\\roaming\\python\\python312\\site-packages (from pandas) (2.9.0.post0)\n",
      "Requirement already satisfied: pytz>=2020.1 in c:\\users\\hoang\\appdata\\local\\programs\\python\\python312\\lib\\site-packages (from pandas) (2024.1)\n",
      "Requirement already satisfied: tzdata>=2022.7 in c:\\users\\hoang\\appdata\\local\\programs\\python\\python312\\lib\\site-packages (from pandas) (2024.1)\n",
      "Requirement already satisfied: six>=1.5 in c:\\users\\hoang\\appdata\\roaming\\python\\python312\\site-packages (from python-dateutil>=2.8.2->pandas) (1.16.0)\n",
      "Requirement already satisfied: charset-normalizer<4,>=2 in c:\\users\\hoang\\appdata\\local\\programs\\python\\python312\\lib\\site-packages (from requests>=2.22->requests-cache) (3.3.2)\n",
      "Requirement already satisfied: idna<4,>=2.5 in c:\\users\\hoang\\appdata\\local\\programs\\python\\python312\\lib\\site-packages (from requests>=2.22->requests-cache) (3.7)\n",
      "Requirement already satisfied: certifi>=2017.4.17 in c:\\users\\hoang\\appdata\\local\\programs\\python\\python312\\lib\\site-packages (from requests>=2.22->requests-cache) (2024.2.2)\n",
      "Using cached requests_cache-1.2.1-py3-none-any.whl (61 kB)\n",
      "Using cached retry_requests-2.0.0-py3-none-any.whl (15 kB)\n",
      "Using cached cattrs-24.1.0-py3-none-any.whl (66 kB)\n",
      "Using cached url_normalize-1.4.3-py2.py3-none-any.whl (6.8 kB)\n",
      "Installing collected packages: url-normalize, cattrs, retry-requests, requests-cache\n",
      "Successfully installed cattrs-24.1.0 requests-cache-1.2.1 retry-requests-2.0.0 url-normalize-1.4.3\n"
     ]
    },
    {
     "name": "stderr",
     "output_type": "stream",
     "text": [
      "\n",
      "[notice] A new release of pip is available: 24.0 -> 24.2\n",
      "[notice] To update, run: python.exe -m pip install --upgrade pip\n"
     ]
    }
   ],
   "source": [
    "!pip install openmeteo-requests\n",
    "!pip install requests-cache retry-requests numpy pandas"
   ]
  },
  {
   "cell_type": "markdown",
   "metadata": {},
   "source": [
    "# API Call"
   ]
  },
  {
   "cell_type": "code",
   "execution_count": 10,
   "metadata": {},
   "outputs": [],
   "source": [
    "def prediction_call(locations):\n",
    "    # Setup the Open-Meteo API client with cache and retry on error\n",
    "    cache_session = requests_cache.CachedSession('.cache', expire_after = 3600)\n",
    "    retry_session = retry(cache_session, retries = 5, backoff_factor = 0.2)\n",
    "    openmeteo = openmeteo_requests.Client(session = retry_session)\n",
    "\n",
    "    # Make sure all required weather variables are listed here\n",
    "    # The order of variables in hourly or daily is important to assign them correctly below\n",
    "    url = \"https://api.open-meteo.com/v1/forecast\"\n",
    "    params = {\n",
    "        \"latitude\": locations[0],\n",
    "        \"longitude\": locations[1],\n",
    "        \"daily\": [\"temperature_2m_max\",\"temperature_2m_min\",\"rain_sum\",],\n",
    "        \"Timezone\": \"auto\"\n",
    "    }\n",
    "    responses = openmeteo.weather_api(url, params=params)\n",
    "\n",
    "    return responses"
   ]
  },
  {
   "cell_type": "markdown",
   "metadata": {},
   "source": [
    "# Process API Call"
   ]
  },
  {
   "cell_type": "code",
   "execution_count": 11,
   "metadata": {},
   "outputs": [],
   "source": [
    "def extract_process(responses):\n",
    "    response = responses[0]\n",
    "\n",
    "    daily_data = response.Daily()\n",
    "\n",
    "    temp_min = daily_data.Variables(0).ValuesAsNumpy()\n",
    "    temp_max = daily_data.Variables(1).ValuesAsNumpy()\n",
    "    rain_sum = daily_data.Variables(2).ValuesAsNumpy()\n",
    "    response = responses[0]\n",
    "\n",
    "    daily_data = response.Daily()\n",
    "    daily_index = pd.date_range(\n",
    "            start = pd.to_datetime(daily_data.Time(), unit = \"s\"),\n",
    "            end = pd.to_datetime(daily_data.TimeEnd(), unit = \"s\"),\n",
    "            freq = pd.Timedelta(seconds = daily_data.Interval()),\n",
    "            inclusive = \"left\"\n",
    "            )\n",
    "    temp_min = daily_data.Variables(0).ValuesAsNumpy()\n",
    "    temp_max = daily_data.Variables(1).ValuesAsNumpy()\n",
    "    rain_sum = daily_data.Variables(2).ValuesAsNumpy()\n",
    "    daily_df = {\n",
    "            \"Datetime\" : daily_index,\n",
    "            \"Minimum Temperature\" : temp_min,\n",
    "            \"Maximum Temperature\" : temp_max,\n",
    "            \"Rain\" : rain_sum\n",
    "        }\n",
    "\n",
    "    daily_df = pd.DataFrame(daily_df)\n",
    "    return daily_df\n",
    "\n",
    "    \n",
    "    "
   ]
  },
  {
   "cell_type": "code",
   "execution_count": 12,
   "metadata": {},
   "outputs": [
    {
     "data": {
      "text/html": [
       "<div>\n",
       "<style scoped>\n",
       "    .dataframe tbody tr th:only-of-type {\n",
       "        vertical-align: middle;\n",
       "    }\n",
       "\n",
       "    .dataframe tbody tr th {\n",
       "        vertical-align: top;\n",
       "    }\n",
       "\n",
       "    .dataframe thead th {\n",
       "        text-align: right;\n",
       "    }\n",
       "</style>\n",
       "<table border=\"1\" class=\"dataframe\">\n",
       "  <thead>\n",
       "    <tr style=\"text-align: right;\">\n",
       "      <th></th>\n",
       "      <th>Datetime</th>\n",
       "      <th>Minimum Temperature</th>\n",
       "      <th>Maximum Temperature</th>\n",
       "      <th>Rain</th>\n",
       "    </tr>\n",
       "  </thead>\n",
       "  <tbody>\n",
       "    <tr>\n",
       "      <th>0</th>\n",
       "      <td>2024-09-03</td>\n",
       "      <td>23.174002</td>\n",
       "      <td>8.874</td>\n",
       "      <td>4.3</td>\n",
       "    </tr>\n",
       "    <tr>\n",
       "      <th>1</th>\n",
       "      <td>2024-09-04</td>\n",
       "      <td>14.574000</td>\n",
       "      <td>7.724</td>\n",
       "      <td>0.0</td>\n",
       "    </tr>\n",
       "    <tr>\n",
       "      <th>2</th>\n",
       "      <td>2024-09-05</td>\n",
       "      <td>12.374000</td>\n",
       "      <td>6.024</td>\n",
       "      <td>0.0</td>\n",
       "    </tr>\n",
       "    <tr>\n",
       "      <th>3</th>\n",
       "      <td>2024-09-06</td>\n",
       "      <td>13.774000</td>\n",
       "      <td>5.874</td>\n",
       "      <td>0.0</td>\n",
       "    </tr>\n",
       "    <tr>\n",
       "      <th>4</th>\n",
       "      <td>2024-09-07</td>\n",
       "      <td>17.524000</td>\n",
       "      <td>6.674</td>\n",
       "      <td>0.0</td>\n",
       "    </tr>\n",
       "    <tr>\n",
       "      <th>5</th>\n",
       "      <td>2024-09-08</td>\n",
       "      <td>21.374001</td>\n",
       "      <td>9.924</td>\n",
       "      <td>0.0</td>\n",
       "    </tr>\n",
       "    <tr>\n",
       "      <th>6</th>\n",
       "      <td>2024-09-09</td>\n",
       "      <td>22.824001</td>\n",
       "      <td>10.124</td>\n",
       "      <td>0.0</td>\n",
       "    </tr>\n",
       "  </tbody>\n",
       "</table>\n",
       "</div>"
      ],
      "text/plain": [
       "    Datetime  Minimum Temperature  Maximum Temperature  Rain\n",
       "0 2024-09-03            23.174002                8.874   4.3\n",
       "1 2024-09-04            14.574000                7.724   0.0\n",
       "2 2024-09-05            12.374000                6.024   0.0\n",
       "3 2024-09-06            13.774000                5.874   0.0\n",
       "4 2024-09-07            17.524000                6.674   0.0\n",
       "5 2024-09-08            21.374001                9.924   0.0\n",
       "6 2024-09-09            22.824001               10.124   0.0"
      ]
     },
     "execution_count": 12,
     "metadata": {},
     "output_type": "execute_result"
    }
   ],
   "source": [
    "cache_session = requests_cache.CachedSession('.cache', expire_after = 3600)\n",
    "retry_session = retry(cache_session, retries = 5, backoff_factor = 0.2)\n",
    "openmeteo = openmeteo_requests.Client(session = retry_session)\n",
    "locations = [52,64]\n",
    "# Make sure all required weather variables are listed here\n",
    "# The order of variables in hourly or daily is important to assign them correctly below\n",
    "url = \"https://api.open-meteo.com/v1/forecast\"\n",
    "params = {\n",
    "    \"latitude\": locations[0],\n",
    "    \"longitude\": locations[1],\n",
    "    \"daily\": [\"temperature_2m_max\",\"temperature_2m_min\",\"rain_sum\",],\n",
    "    \"Timezone\": \"auto\"\n",
    "}\n",
    "responses = openmeteo.weather_api(url, params=params)\n",
    "response = responses[0]\n",
    "\n",
    "daily_data = response.Daily()\n",
    "daily_index = pd.date_range(\n",
    "        start = pd.to_datetime(daily_data.Time(), unit = \"s\"),\n",
    "        end = pd.to_datetime(daily_data.TimeEnd(), unit = \"s\"),\n",
    "        freq = pd.Timedelta(seconds = daily_data.Interval()),\n",
    "        inclusive = \"left\"\n",
    "        )\n",
    "temp_min = daily_data.Variables(0).ValuesAsNumpy()\n",
    "temp_max = daily_data.Variables(1).ValuesAsNumpy()\n",
    "rain_sum = daily_data.Variables(2).ValuesAsNumpy()\n",
    "daily_df = {\n",
    "        \"Datetime\" : daily_index,\n",
    "        \"Minimum Temperature\" : temp_min,\n",
    "        \"Maximum Temperature\" : temp_max,\n",
    "        \"Rain\" : rain_sum\n",
    "    }\n",
    "\n",
    "daily_df = pd.DataFrame(daily_df)\n",
    "daily_df\n"
   ]
  }
 ],
 "metadata": {
  "kernelspec": {
   "display_name": "Python 3",
   "language": "python",
   "name": "python3"
  },
  "language_info": {
   "codemirror_mode": {
    "name": "ipython",
    "version": 3
   },
   "file_extension": ".py",
   "mimetype": "text/x-python",
   "name": "python",
   "nbconvert_exporter": "python",
   "pygments_lexer": "ipython3",
   "version": "3.12.3"
  }
 },
 "nbformat": 4,
 "nbformat_minor": 2
}
